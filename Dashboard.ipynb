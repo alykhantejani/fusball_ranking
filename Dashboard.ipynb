{
 "cells": [
  {
   "cell_type": "code",
   "execution_count": 1,
   "metadata": {
    "collapsed": false
   },
   "outputs": [],
   "source": [
    "from metrics import trueskill\n",
    "import matplotlib.pyplot as plt\n",
    "from IPython.display import Markdown, display\n",
    "%matplotlib inline\n",
    "trueskill.ts.setup(draw_probability=0)\n",
    "def printmd(string):\n",
    "    display(Markdown(string))\n",
    "\n",
    "def print_rankings(rankings):\n",
    "    print(\"Current Rankings\\n\")\n",
    "    for i in range(len(rankings)):\n",
    "        player, rating, rank = rankings[i]\n",
    "        print(\"[{:2d}] {} \\t TrueSkill={:.2f} \\t rating {}\".format(i + 1, player, rank, rating))\n",
    "\n",
    "def print_matches(matches):\n",
    "    for match in matches:\n",
    "        (p1, p2), (p3, p4) = match\n",
    "        print(\"[{} & {}] vs [{} and {}]\".format(p1, p2, p3, p4))\n"
   ]
  },
  {
   "cell_type": "code",
   "execution_count": 6,
   "metadata": {
    "collapsed": false
   },
   "outputs": [],
   "source": [
    "players = ['ferenc', 'aly', 'geoff', 'jose', 'joost', 'lucas', 'francisco', 'zehan', \n",
    "           'christian', 'wenzhe', 'yordan', 'seb', 'carlos', 'alejandro', 'johannes']\n",
    "dataset_file='dataset_file.csv'\n",
    "\n",
    "ratings = trueskill.create_default_ratings(players)\n",
    "ratings, rating_history = trueskill.update_ratings(ratings, dataset_file)\n",
    "rankings = trueskill.rank_players(ratings)"
   ]
  },
  {
   "cell_type": "code",
   "execution_count": null,
   "metadata": {
    "collapsed": false
   },
   "outputs": [],
   "source": [
    "trueskill.plot_historical_rankings(rating_history)"
   ]
  },
  {
   "cell_type": "code",
   "execution_count": null,
   "metadata": {
    "collapsed": false
   },
   "outputs": [],
   "source": [
    "print_rankings(rankings)"
   ]
  },
  {
   "cell_type": "code",
   "execution_count": null,
   "metadata": {
    "collapsed": false
   },
   "outputs": [],
   "source": [
    "available_players = players.copy()\n",
    "# available_players.remove('aly')\n",
    "for _ in range(3):\n",
    "    print_matches(trueskill.matchmake(available_players, ratings))"
   ]
  },
  {
   "cell_type": "code",
   "execution_count": null,
   "metadata": {
    "collapsed": true
   },
   "outputs": [],
   "source": []
  },
  {
   "cell_type": "code",
   "execution_count": null,
   "metadata": {
    "collapsed": true
   },
   "outputs": [],
   "source": []
  }
 ],
 "metadata": {
  "kernelspec": {
   "display_name": "Python 3",
   "language": "python",
   "name": "python3"
  },
  "language_info": {
   "codemirror_mode": {
    "name": "ipython",
    "version": 3
   },
   "file_extension": ".py",
   "mimetype": "text/x-python",
   "name": "python",
   "nbconvert_exporter": "python",
   "pygments_lexer": "ipython3",
   "version": "3.5.2"
  }
 },
 "nbformat": 4,
 "nbformat_minor": 2
}
